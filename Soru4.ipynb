{
 "cells": [
  {
   "cell_type": "code",
   "execution_count": 16,
   "id": "f20c5548-258e-4ce6-ae4b-b786542842c2",
   "metadata": {},
   "outputs": [
    {
     "name": "stdout",
     "output_type": "stream",
     "text": [
      "tensor([[0.4892],\n",
      "        [0.5566]], grad_fn=<MulBackward0>)\n"
     ]
    }
   ],
   "source": [
    "import torch\n",
    "import numpy as np\n",
    "\n",
    "torch.manual_seed(1)\n",
    "\n",
    "def tanh_activation(x):\n",
    "    return (torch.exp(x)-torch.exp(-x))/(torch.exp(x)+torch.exp(-x))\n",
    "\n",
    "def sigmoid_activation(x):\n",
    "    return 1/(1+torch.exp(-x))\n",
    "    \n",
    "class NeuralNetwork(torch.nn.Module):\n",
    "    def __init__(self):\n",
    "        super(NeuralNetwork, self).__init__()\n",
    "        self.hidden_layer = torch.nn.Linear(3, 50)\n",
    "        self.output_layer = torch.nn.Linear(50, 1)\n",
    "\n",
    "    def forward(self, x):\n",
    "        x = tanh(self.hidden_layer(x))\n",
    "        x = sigmoid(self.output_layer(x))\n",
    "        return x\n",
    "\n",
    "input_tensor = torch.tensor(np.array([[1, 2, 3], [4, 5, 6]], dtype=np.float32))\n",
    "\n",
    "model = NeuralNetwork()\n",
    "output = model(input_tensor)\n",
    "\n",
    "# Çıkışı yazdırma\n",
    "print(output)"
   ]
  },
  {
   "cell_type": "code",
   "execution_count": 17,
   "id": "3a766a3d-d465-4e0a-92e5-4e4374555490",
   "metadata": {
    "tags": []
   },
   "outputs": [
    {
     "name": "stdout",
     "output_type": "stream",
     "text": [
      "tensor([[0.4939],\n",
      "        [0.4753]], grad_fn=<MulBackward0>)\n"
     ]
    }
   ],
   "source": [
    "import torch\n",
    "import numpy as np\n",
    "\n",
    "torch.manual_seed(190401088)\n",
    "\n",
    "def tanh_activation(x):\n",
    "    return (torch.exp(x)-torch.exp(-x))/(torch.exp(x)+torch.exp(-x))\n",
    "\n",
    "def sigmoid_activation(x):\n",
    "    return 1/(1+torch.exp(-x))\n",
    "    \n",
    "class NeuralNetwork(torch.nn.Module):\n",
    "    def __init__(self):\n",
    "        super(NeuralNetwork, self).__init__()\n",
    "        self.hidden_layer = torch.nn.Linear(3, 50)\n",
    "        self.output_layer = torch.nn.Linear(50, 1)\n",
    "\n",
    "    def forward(self, x):\n",
    "        x = tanh(self.hidden_layer(x))\n",
    "        x = sigmoid(self.output_layer(x))\n",
    "        return x\n",
    "\n",
    "input_tensor = torch.tensor(np.array([[1, 2, 3], [4, 5, 6]], dtype=np.float32))\n",
    "\n",
    "model = NeuralNetwork()\n",
    "output = model(input_tensor)\n",
    "\n",
    "# Çıkışı yazdırma\n",
    "print(output)"
   ]
  },
  {
   "cell_type": "code",
   "execution_count": null,
   "id": "15fecba0-ae6c-41e3-9543-32dbc7ca2c8b",
   "metadata": {},
   "outputs": [],
   "source": []
  }
 ],
 "metadata": {
  "kernelspec": {
   "display_name": "Python 3 (ipykernel)",
   "language": "python",
   "name": "python3"
  },
  "language_info": {
   "codemirror_mode": {
    "name": "ipython",
    "version": 3
   },
   "file_extension": ".py",
   "mimetype": "text/x-python",
   "name": "python",
   "nbconvert_exporter": "python",
   "pygments_lexer": "ipython3",
   "version": "3.11.3"
  }
 },
 "nbformat": 4,
 "nbformat_minor": 5
}
